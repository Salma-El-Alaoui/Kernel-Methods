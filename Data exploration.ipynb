{
 "cells": [
  {
   "cell_type": "code",
   "execution_count": 386,
   "metadata": {
    "collapsed": true
   },
   "outputs": [],
   "source": [
    "import numpy as np\n",
    "import pandas as pd\n",
    "import matplotlib.pyplot as plt\n",
    "from sklearn.svm import SVC\n",
    "from scipy.signal import wiener\n",
    "%matplotlib inline"
   ]
  },
  {
   "cell_type": "markdown",
   "metadata": {},
   "source": [
    "# Load data "
   ]
  },
  {
   "cell_type": "code",
   "execution_count": 140,
   "metadata": {
    "collapsed": false
   },
   "outputs": [],
   "source": [
    "X_train = np.genfromtxt('data/Xtr.csv',delimiter=',')\n",
    "y_train = np.genfromtxt('data/Ytr.csv',delimiter=',')\n",
    "X_test = np.genfromtxt('data/Xte.csv',delimiter=',')"
   ]
  },
  {
   "cell_type": "code",
   "execution_count": 141,
   "metadata": {
    "collapsed": false
   },
   "outputs": [
    {
     "name": "stdout",
     "output_type": "stream",
     "text": [
      "(5000, 3073)\n",
      "(5001, 2)\n",
      "(2000, 3073)\n"
     ]
    }
   ],
   "source": [
    "print(X_train.shape)\n",
    "print(y_train.shape)\n",
    "print(X_test.shape)"
   ]
  },
  {
   "cell_type": "code",
   "execution_count": 142,
   "metadata": {
    "collapsed": false
   },
   "outputs": [
    {
     "name": "stdout",
     "output_type": "stream",
     "text": [
      "Number of classes:  10\n"
     ]
    }
   ],
   "source": [
    "print(\"Number of classes: \",len(np.unique(y_train[:,1]))-1) # - 1 because first line (header) produces a nan"
   ]
  },
  {
   "cell_type": "code",
   "execution_count": 143,
   "metadata": {
    "collapsed": false
   },
   "outputs": [
    {
     "data": {
      "text/plain": [
       "array([ 8.,  9.,  3., ...,  1.,  7.,  5.])"
      ]
     },
     "execution_count": 143,
     "metadata": {},
     "output_type": "execute_result"
    }
   ],
   "source": [
    "y_train[1:,1]"
   ]
  },
  {
   "cell_type": "code",
   "execution_count": 144,
   "metadata": {
    "collapsed": false
   },
   "outputs": [
    {
     "name": "stdout",
     "output_type": "stream",
     "text": [
      "Class  0  , n_elements =  500.0\n",
      "Class  1  , n_elements =  500.0\n",
      "Class  2  , n_elements =  500.0\n",
      "Class  3  , n_elements =  500.0\n",
      "Class  4  , n_elements =  500.0\n",
      "Class  5  , n_elements =  500.0\n",
      "Class  6  , n_elements =  500.0\n",
      "Class  7  , n_elements =  500.0\n",
      "Class  8  , n_elements =  500.0\n",
      "Class  9  , n_elements =  500.0\n"
     ]
    },
    {
     "name": "stderr",
     "output_type": "stream",
     "text": [
      "/Users/camillejandot/anaconda/lib/python3.5/site-packages/ipykernel/__main__.py:4: VisibleDeprecationWarning: using a non-integer number instead of an integer will result in an error in the future\n"
     ]
    }
   ],
   "source": [
    "counts = np.zeros(10)\n",
    "for i in range(1,len(y_train)):\n",
    "    cl = y_train[i,1] \n",
    "    counts[cl] += 1\n",
    "\n",
    "for i in range(len(counts)):\n",
    "    print(\"Class \",i, \" , n_elements = \",counts[i])"
   ]
  },
  {
   "cell_type": "code",
   "execution_count": 145,
   "metadata": {
    "collapsed": false
   },
   "outputs": [],
   "source": [
    "if y_train.shape[0]==len(np.unique(y_train[1])):\n",
    "    print(\"Ids in y_train are unique\")"
   ]
  },
  {
   "cell_type": "code",
   "execution_count": 146,
   "metadata": {
    "collapsed": false
   },
   "outputs": [],
   "source": [
    "# Last column is a column of nans, we remove it and thus obtain 3072 columns as precised in the documentation\n",
    "X_train = X_train[:,:-1]\n",
    "X_test = X_test[:,:-1]\n",
    "y_train = y_train[1:,1]"
   ]
  },
  {
   "cell_type": "code",
   "execution_count": 147,
   "metadata": {
    "collapsed": false
   },
   "outputs": [
    {
     "name": "stdout",
     "output_type": "stream",
     "text": [
      "(5000, 3072)\n",
      "(5000,)\n",
      "(2000, 3072)\n"
     ]
    }
   ],
   "source": [
    "print(X_train.shape)\n",
    "print(y_train.shape)\n",
    "print(X_test.shape)"
   ]
  },
  {
   "cell_type": "markdown",
   "metadata": {},
   "source": [
    "# Visualize data"
   ]
  },
  {
   "cell_type": "code",
   "execution_count": 148,
   "metadata": {
    "collapsed": true
   },
   "outputs": [],
   "source": [
    "plt.imshow?"
   ]
  },
  {
   "cell_type": "code",
   "execution_count": 278,
   "metadata": {
    "collapsed": false
   },
   "outputs": [
    {
     "name": "stdout",
     "output_type": "stream",
     "text": [
      "-0.3187875\n",
      "0.402814\n",
      "-0.3442333\n",
      "0.3582715\n",
      "-0.4618988\n",
      "0.380387\n"
     ]
    }
   ],
   "source": [
    "# Boundaries for red channel\n",
    "print(X_train[:,0:1024].min())\n",
    "print(X_train[:,0:1024].max())\n",
    "# Boundaries for green channel\n",
    "print(X_train[:,1024:2048].min())\n",
    "print(X_train[:,1024:2048].max())\n",
    "# Boundaries for blue channel\n",
    "print(X_train[:,2048:].min())\n",
    "print(X_train[:,2048:].max())"
   ]
  },
  {
   "cell_type": "code",
   "execution_count": 391,
   "metadata": {
    "collapsed": false
   },
   "outputs": [],
   "source": [
    "def show_image(X,id_img,incr_contrast=True):\n",
    "    image = X[id_img].copy()\n",
    "    r = image[:1024].reshape(32,32)\n",
    "    g = image[1024:2048].reshape(32,32)\n",
    "    b = image[2048:].reshape(32,32)\n",
    "    \n",
    "    def increase_contrast_rescale(channel,incr_contrast):\n",
    "        threshold = 0.5 * np.ones((32,32))\n",
    "        channel += threshold\n",
    "        if incr_contrast:\n",
    "            delta = np.power(channel,2.5)\n",
    "            channel += delta \n",
    "        n_over = 0\n",
    "        n_under = 0\n",
    "        for i in range(channel.shape[0]):\n",
    "            for j in range(channel.shape[1]):\n",
    "                if channel[i,j]>1.:\n",
    "                    channel[i,j] = 1.\n",
    "                    n_over += 1\n",
    "                elif channel[i,j]<0.:\n",
    "                    channel[i,j] = 0.\n",
    "                    n_under += 1\n",
    "        #print(\"Contrast over \",n_over)\n",
    "        #print(\"Contrast under \",n_under)\n",
    "        return channel\n",
    "    \n",
    "    r = increase_contrast_rescale(r,incr_contrast)\n",
    "    g = increase_contrast_rescale(g,incr_contrast)\n",
    "    b = increase_contrast_rescale(b,incr_contrast)\n",
    "    \n",
    "    threshold = 0.5 * np.ones((32,32))\n",
    "    image_3 = np.zeros((32,32,3))\n",
    "    image_3[:,:,0] = r #+ threshold\n",
    "    image_3[:,:,1] = g #+ threshold\n",
    "    image_3[:,:,2] = b #+ threshold\n",
    "    \n",
    "    plt.figure()\n",
    "    plt.imshow(image_3)"
   ]
  },
  {
   "cell_type": "code",
   "execution_count": 392,
   "metadata": {
    "collapsed": true
   },
   "outputs": [],
   "source": [
    "def show_channel(X,id_img,channel):\n",
    "    \"\"\"\n",
    "    channel 0,1,2,3 for r,g,b,all (resp.)\n",
    "    \"\"\"\n",
    "    image = X[id_img].copy()\n",
    "    if channel==0:\n",
    "        r = image[:1024].reshape(32,32)\n",
    "        plt.figure()\n",
    "        plt.imshow(r, cmap='gray')\n",
    "        plt.title('red channel')\n",
    "    elif channel==1:\n",
    "        g = image[1024:2048].reshape(32,32)\n",
    "        plt.figure()\n",
    "        plt.imshow(g, cmap='gray')\n",
    "        plt.title('green channel')\n",
    "    elif channel==2:\n",
    "        b = image[2048:].reshape(32,32)\n",
    "        plt.figure()\n",
    "        plt.imshow(b, cmap='gray')\n",
    "        plt.title('blue channel')\n",
    "    else:\n",
    "        r = image[:1024].reshape(32,32)\n",
    "        plt.figure()\n",
    "        plt.imshow(r, cmap='gray')\n",
    "        plt.title('red channel')\n",
    "        g = image[1024:2048].reshape(32,32)\n",
    "        plt.figure()\n",
    "        plt.imshow(g, cmap='gray')\n",
    "        plt.title('green channel')\n",
    "        b = image[2048:].reshape(32,32)\n",
    "        plt.figure()\n",
    "        plt.imshow(b, cmap='gray')\n",
    "        plt.title('blue channel')"
   ]
  },
  {
   "cell_type": "code",
   "execution_count": 393,
   "metadata": {
    "collapsed": false
   },
   "outputs": [
    {
     "name": "stdout",
     "output_type": "stream",
     "text": [
      "[ 8.  9.  3.  1.  4.  5.  9.  0.  3.  3.  5.  3.  7.  6.  7.  5.  8.  8.\n",
      "  5.  3.  8.  9.  8.  5.  7.  2.  0.  9.  8.  4.  4.  6.  6.  6.  0.  3.\n",
      "  9.  6.  8.  9.  8.  1.  8.  3.  5.  9.  3.  3.  2.  7.]\n"
     ]
    }
   ],
   "source": [
    "print(y_train[:50])"
   ]
  },
  {
   "cell_type": "markdown",
   "metadata": {},
   "source": [
    "Les id sont indexés en python (à partir de 0) alors que dans le fichier de y_train, ils sont indexés à partir de 1 !!\n",
    "\n",
    "- 0: plane (id 7,26)\n",
    "- 1: car (id 300)\n",
    "- 2: bird? (id 25,48, better with 74,94)\n",
    "- 3: cat (id 2,8,9,11,19,35,43, better with 108)\n",
    "- 4: ?? an animal? perhaps a deer? (id 4,24 better with 84)\n",
    "- 5: dog (id 5,10,15,18,23, better with 81,99)\n",
    "- 6: frog?? (id 13, 31,32,33,35,better with 70,96)\n",
    "- 7: horse (id 12,14,24)\n",
    "- 8: boat (id 0)\n",
    "- 9: truck (id 1,6,36,39,45, better with 67 or 69)"
   ]
  },
  {
   "cell_type": "code",
   "execution_count": 397,
   "metadata": {
    "collapsed": false
   },
   "outputs": [
    {
     "name": "stdout",
     "output_type": "stream",
     "text": [
      "0.0\n"
     ]
    },
    {
     "data": {
      "image/png": "[encoded data removed]",
      "text/plain": [
       "<matplotlib.figure.Figure at 0x134c56828>"
      ]
     },
     "metadata": {},
     "output_type": "display_data"
    },
    {
     "data": {
      "image/png": "[encoded data removed]",
      "text/plain": [
       "<matplotlib.figure.Figure at 0x134c56160>"
      ]
     },
     "metadata": {},
     "output_type": "display_data"
    },
    {
     "data": {
      "image/png": "[encoded data removed]",
      "text/plain": [
       "<matplotlib.figure.Figure at 0x12c87fdd8>"
      ]
     },
     "metadata": {},
     "output_type": "display_data"
    },
    {
     "data": {
      "image/png": "[encoded data removed]",
      "text/plain": [
       "<matplotlib.figure.Figure at 0x12cba0d30>"
      ]
     },
     "metadata": {},
     "output_type": "display_data"
    }
   ],
   "source": [
    "id_img = 459\n",
    "print(y_train[id_img])\n",
    "show_image(X_train,id_img,incr_contrast=True)\n",
    "show_channel(X_train,id_img,3)"
   ]
  },
  {
   "cell_type": "markdown",
   "metadata": {},
   "source": [
    "### TODO\n",
    "Pour l'instant on n'y pas grand chose de plusquand on regarde RGB (fonction show_image). Les coefficients ont l'air compris entre -0.5 et 0.5, et il faut qu'ils soient compris entre 0 et 1... Je sais pas trop comment les rescaler... Pour l'instant, j'ai juste ajouté un threshold de 0.5, mais c'est très moche !!! Il faudrait trouver la façon dont ça a été encodé si on veut mieux voir"
   ]
  },
  {
   "cell_type": "markdown",
   "metadata": {},
   "source": [
    "# Begin to implement One-vs-All (Multiclass)"
   ]
  },
  {
   "cell_type": "code",
   "execution_count": 403,
   "metadata": {
    "collapsed": true
   },
   "outputs": [],
   "source": [
    "def distance_to_separator(w_sep,b_sep,point):\n",
    "    \"\"\"\n",
    "    Computes the distance between a point and the separating hyperplane.\n",
    "    Useful for one vs all to determine the classifier that better classifies a point\n",
    "    \"\"\"\n",
    "    return np.abs(np.dot(w_sep,point)+b_sep)/np.linalg.norm(w_sep)"
   ]
  },
  {
   "cell_type": "code",
   "execution_count": 412,
   "metadata": {
    "collapsed": true
   },
   "outputs": [],
   "source": [
    "def one_vs_all_svm(n_class,X_train,y_train):  \n",
    "    X_train_t = X_train[:4000]\n",
    "    X_train_v = X_train[4000:]\n",
    "\n",
    "    positive_for_class = np.zeros((n_class,len(X_train_v)))\n",
    "    distance_to_sep = np.zeros((n_class,len(X_train_v)))\n",
    "    \n",
    "    classes = []\n",
    "    for cl in range(n_class):\n",
    "        print('*** Learning SVM classifier for class ',cl)\n",
    "        \n",
    "        # Build binary y for classifier for class cl\n",
    "        y_train_cl = np.zeros(y_train.shape)\n",
    "        indices = []\n",
    "        for i in range(len(y_train)):\n",
    "            \n",
    "            if y_train[i] == cl:\n",
    "                indices.append(i)\n",
    "                y_train_cl[i] = 1 \n",
    "                \n",
    "        y_train_t = y_train_cl[:4000]\n",
    "        y_train_v = y_train_cl[4000:]\n",
    "        print(y_train_t.sum())\n",
    "        print(y_train_v.sum())\n",
    "        \n",
    "        # Build balanced train set\n",
    "        n_pos = y_train_t.sum()\n",
    "        n_by_class = int(np.floor(n_pos /10.))\n",
    "        indices_inf_4000 = []\n",
    "        for i in range(len(indices)):\n",
    "            if indices[i] <4000:\n",
    "                indices_inf_4000.append(indices[i])\n",
    "                \n",
    "        indices_bal = indices_inf_4000\n",
    "\n",
    "        for cl2 in range(n_class):\n",
    "            if cl2 != cl:\n",
    "                indices_cl2 = []\n",
    "                for i in range(len(y_train_t)):\n",
    "                    if (y_train[i] == cl2) & (len(indices_cl2)<n_by_class):\n",
    "                        indices_cl2.append(i)\n",
    "                        indices_bal.append(i)\n",
    "           \n",
    "        X_train_bal = X_train[indices_bal]       \n",
    "        y_train_bal = y_train[indices_bal]\n",
    "        \n",
    "        y_train_cl_bal = np.zeros(y_train_bal.shape)\n",
    "        for i in range(len(y_train_bal)):\n",
    "            indices = []\n",
    "            if y_train_bal[i] == cl:\n",
    "                indices.append(i)\n",
    "                y_train_cl_bal[i] = 1 \n",
    "        \n",
    "        \n",
    "        # Train classifier\n",
    "        clf = SVC(kernel='linear',C=10)\n",
    "        clf.fit(X_train_bal,y_train_cl_bal)\n",
    "        score_cl = clf.score(X_train_v,y_train_v)\n",
    "        y_train_pred = clf.predict(X_train_v)\n",
    "        classes.append(y_train_pred)\n",
    "        print(y_train_pred.sum())\n",
    "        print(\"Score: \",score_cl)\n",
    "        print(\"Recall: \",np.dot(y_train_pred,y_train_v)/float(y_train_v.sum()))\n",
    "        \n",
    "        positive_for_class[cl] = y_train_pred\n",
    "        \n",
    "        # Compute distance to linear separator\n",
    "        w = clf.coef_\n",
    "        b = clf.intercept_\n",
    "        for i in range(len(X_train_v)):\n",
    "            distance_to_sep[cl,i] = distance_to_separator(w,b,X_train_v[i])\n",
    "            \n",
    "    # Hadamard product between distance to separator and positive for class\n",
    "    had = positive_for_class * distance_to_sep\n",
    "    y_pred_v_multi = np.zeros(y_train_v.shape)\n",
    "    \n",
    "    count_dist_0 = 0\n",
    "    for i_item in range(len(y_train_v)):\n",
    "        distances_pos = had[:,i_item] \n",
    "        maximum = np.max(distances_pos)\n",
    "        # Maximum = 0 eq. to distances to all hyperplanes for well classified point = 0 eq. to \n",
    "        # all 10 SVM misclassify the point. In that case, we chose to take the classifier that is the\n",
    "        # closest to the point (ie. the classifier that is the least sure the point is negative)\n",
    "        if maximum == 0.:\n",
    "            y_pred_v_multi[i] = np.amin(distance_to_sep[:,i_item])\n",
    "        # If maximum is not 0, it means that at least one out of the 10 classifiers classifies correctly\n",
    "        # our point. In that case, we chose the one for which the margin is the largest. \n",
    "        else:   \n",
    "            count_dist_0 += 1\n",
    "            y_pred_v_multi[i] = np.amax(distances_pos)\n",
    "\n",
    "    print(count_dist_0)\n",
    "    # Now we need to compare our vector of prediction to the true one to estimate the quality of our \n",
    "    # multiclass SVM classifier\n",
    "    y_true = y_train[4000:]\n",
    "    count_well_classified = 0\n",
    "    \n",
    "    for i in range(len(y_true)):\n",
    "        if y_true[i] == y_pred_v_multi[i]:\n",
    "            count_well_classified += 1\n",
    "            \n",
    "    return float(count_well_classified)/float(len(y_true))"
   ]
  },
  {
   "cell_type": "markdown",
   "metadata": {},
   "source": [
    "## Notes\n",
    "\n",
    "#### Multiclass Classification\n",
    "On a ici affaire à un problème de classification multiclass. Pour l'instant, on ne sait gérer que de la classification binaire avec SVM. Les solutions sont diverses : \n",
    "- one versus all : on fait un classifieur par classe (l'item appartient ou n'appartient pas à la classe en question)\n",
    "- one versus one : trop coûteux donc pas envisageable je pense\n",
    "- autres : cf. ici http://nlp.stanford.edu/IR-book/html/htmledition/multiclass-svms-1.html\n",
    "\n",
    "Pour l'instant, j'ai décidé d'opter pour la solution la plus simple, one versus all.\n",
    "\n",
    "#### Unbalanced Data\n",
    "Il ne faut pas chercher à obtenir le meilleur score possible pour le classifieur de chaque classe. En effet, les données ne sont pas équilibrées (10% classe positives, 90% classe négative). Deux \"solutions\" :\n",
    "- Ne pas cross valider sur le score. Inconvénient : il faut trouver une métrique qui nous permette de cross valider (le recall ?).\n",
    "- Entrainer sur un train set équilibré. Inconvénient : on n'utilise pas toutes les données à notre disposition. Pour l'instant, c'est ce que j'ai mis en place.\n",
    "\n",
    "Note : j'ai print les sommes de chaque vecteur y pour vérifier qu'on avait bien des 1... Par exemple, avec le default gaussian kernel (clf = SVC()), on a de \"bons scores\" pour chacun des classifieurs, mais on prédit 0 partout !!! Pas très utile...\n",
    "\n",
    "#### Recall\n",
    "J'ai dit que c'était le recall que je printais, il faudrait vérifier mais je n'ai pas le temps là tout de suite. Ce que je print quand je dis \"recall\", c'est le produit scalaire entre le y_pred binaire et le y_true binaire (ce sont des 1 et des 0, donc on additionne des 1 quand y_pred[i]=y_true[i]=1), divisé par le nombre réel de positifs."
   ]
  },
  {
   "cell_type": "markdown",
   "metadata": {},
   "source": [
    "## TODO\n",
    "- Mettre en place une stratégie de validation qui fonctionne avec des unbalanced data pour choisir les hyperparamètres\n",
    "- Choisir la classe de la façon suivante: la classe est celle parmi les classes choisies qui est choisie avec la plus grande marge\n",
    "- Mettre notre SVM à la place du SVM de scikit learn"
   ]
  },
  {
   "cell_type": "code",
   "execution_count": 413,
   "metadata": {
    "collapsed": false
   },
   "outputs": [
    {
     "name": "stdout",
     "output_type": "stream",
     "text": [
      "*** Learning SVM classifier for class  0\n",
      "412.0\n",
      "88.0\n",
      "529.0\n",
      "Score:  0.475\n",
      "Recall:  0.522727272727\n",
      "*** Learning SVM classifier for class  1\n",
      "423.0\n",
      "77.0\n",
      "372.0\n",
      "Score:  0.643\n",
      "Recall:  0.597402597403\n",
      "*** Learning SVM classifier for class  2\n",
      "395.0\n",
      "105.0\n",
      "514.0\n",
      "Score:  0.505\n",
      "Recall:  0.590476190476\n",
      "*** Learning SVM classifier for class  3\n",
      "402.0\n",
      "98.0\n",
      "520.0\n",
      "Score:  0.494\n",
      "Recall:  0.571428571429\n",
      "*** Learning SVM classifier for class  4\n",
      "400.0\n",
      "100.0\n",
      "523.0\n",
      "Score:  0.489\n",
      "Recall:  0.56\n",
      "*** Learning SVM classifier for class  5\n",
      "382.0\n",
      "118.0\n",
      "443.0\n",
      "Score:  0.563\n",
      "Recall:  0.525423728814\n",
      "*** Learning SVM classifier for class  6\n",
      "401.0\n",
      "99.0\n",
      "442.0\n",
      "Score:  0.565\n",
      "Recall:  0.535353535354\n",
      "*** Learning SVM classifier for class  7\n",
      "387.0\n",
      "113.0\n",
      "426.0\n",
      "Score:  0.583\n",
      "Recall:  0.53982300885\n",
      "*** Learning SVM classifier for class  8\n",
      "399.0\n",
      "101.0\n",
      "521.0\n",
      "Score:  0.514\n",
      "Recall:  0.673267326733\n",
      "*** Learning SVM classifier for class  9\n",
      "399.0\n",
      "101.0\n",
      "409.0\n",
      "Score:  0.616\n",
      "Recall:  0.623762376238\n",
      "976\n",
      "0.088\n"
     ]
    }
   ],
   "source": [
    "score = one_vs_all_svm(10,X_train,y_train)\n",
    "print(score)"
   ]
  },
  {
   "cell_type": "markdown",
   "metadata": {},
   "source": [
    "### Remarque\n",
    "L'avant dernier nombre imprimé est le nombre de fois ou le point est misclassifié (976 sur 1000 exemples dans le validation set) : quasiment tout le temps... On dirait que cette stratégie one vs all ne marche pas, ou alors que le classifieur linéaire est vraiment nul. "
   ]
  },
  {
   "cell_type": "markdown",
   "metadata": {},
   "source": [
    "# Using scikit learn multiclass SVM\n",
    "Just call scikit learn's SVM classifier"
   ]
  },
  {
   "cell_type": "code",
   "execution_count": 385,
   "metadata": {
    "collapsed": false
   },
   "outputs": [
    {
     "name": "stdout",
     "output_type": "stream",
     "text": [
      "0.159\n"
     ]
    }
   ],
   "source": [
    "X_train_t = X_train[:4000]\n",
    "X_train_v = X_train[4000:]\n",
    "y_train_t = y_train[:4000]\n",
    "y_train_v = y_train[4000:]\n",
    "\n",
    "clf = SVC(kernel='linear',C=50)\n",
    "clf.fit(X_train_t,y_train_t)\n",
    "print(clf.score(X_train_v,y_train_v))"
   ]
  },
  {
   "cell_type": "markdown",
   "metadata": {},
   "source": [
    "Ahah, c'est vraiment nul le résultat donné par une SVM linéaire. Le problème à traiter a vraiment l'air non trivial !!!"
   ]
  },
  {
   "cell_type": "code",
   "execution_count": 124,
   "metadata": {
    "collapsed": false,
    "scrolled": true
   },
   "outputs": [
    {
     "data": {
      "text/plain": [
       "0.076999999999999999"
      ]
     },
     "execution_count": 124,
     "metadata": {},
     "output_type": "execute_result"
    }
   ],
   "source": [
    "X_train_t = X_train[:4000,:1024]\n",
    "X_train_v = X_train[4000:,:1024]\n",
    "y_train_t = y_train[:4000]\n",
    "y_train_v = y_train[4000:]\n",
    "clf = SVC()\n",
    "clf.fit(X_train_t,y_train_t)\n",
    "clf.score(X_train_v,y_train_v)"
   ]
  },
  {
   "cell_type": "markdown",
   "metadata": {},
   "source": [
    "Et là c'est plus que nul, on fait moins de 10%. C'est à dire qu'en prédisant la même classe partout, sans chercher à apprendre quoi que ce soit, on ferait mieux !"
   ]
  }
 ],
 "metadata": {
  "anaconda-cloud": {},
  "kernelspec": {
   "display_name": "Python 3",
   "language": "python",
   "name": "python3"
  },
  "language_info": {
   "codemirror_mode": {
    "name": "ipython",
    "version": 3
   },
   "file_extension": ".py",
   "mimetype": "text/x-python",
   "name": "python",
   "nbconvert_exporter": "python",
   "pygments_lexer": "ipython3",
   "version": "3.5.2"
  }
 },
 "nbformat": 4,
 "nbformat_minor": 0
}
